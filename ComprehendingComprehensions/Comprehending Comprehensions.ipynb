{
 "cells": [
  {
   "cell_type": "code",
   "execution_count": 21,
   "id": "289b0263",
   "metadata": {},
   "outputs": [],
   "source": [
    "def base_strings_to_numbers(matrix):\n",
    "    \"\"\"\n",
    "    Function accepts a list-of-lists-of-strings and returns a list-of-lists-of-numbers.\n",
    "    \"\"\"\n",
    "    new_matrix = []\n",
    "    for row in matrix:\n",
    "        new_row = []\n",
    "        for n in row:\n",
    "            new_row.append(int(n))\n",
    "        new_matrix.append(new_row)\n",
    "    return new_matrix"
   ]
  },
  {
   "cell_type": "code",
   "execution_count": 2,
   "id": "58cee250",
   "metadata": {},
   "outputs": [
    {
     "data": {
      "text/plain": [
       "[[1, 2, 3], [4, 5, 6]]"
      ]
     },
     "execution_count": 2,
     "metadata": {},
     "output_type": "execute_result"
    }
   ],
   "source": [
    "base_strings_to_numbers([['1', '2', '3'], ['4', '5', '6']])"
   ]
  },
  {
   "cell_type": "markdown",
   "id": "243cb018",
   "metadata": {},
   "source": [
    "### Refactor 1 "
   ]
  },
  {
   "cell_type": "code",
   "execution_count": 3,
   "id": "65890626",
   "metadata": {},
   "outputs": [],
   "source": [
    "def strings_to_numbers(matrix):\n",
    "    new_matrix = []\n",
    "    for row in matrix:\n",
    "        # Parsing the list one at a time and converting it.\n",
    "        new_matrix.append([int(n) for n in row])\n",
    "    return new_matrix"
   ]
  },
  {
   "cell_type": "code",
   "execution_count": 4,
   "id": "822709ad",
   "metadata": {},
   "outputs": [
    {
     "data": {
      "text/plain": [
       "[[1, 2, 3], [4, 5, 6]]"
      ]
     },
     "execution_count": 4,
     "metadata": {},
     "output_type": "execute_result"
    }
   ],
   "source": [
    "strings_to_numbers([['1', '2', '3'], ['4', '5', '6']])"
   ]
  },
  {
   "cell_type": "markdown",
   "id": "e054ad34",
   "metadata": {},
   "source": [
    "### Refactor 2 "
   ]
  },
  {
   "cell_type": "code",
   "execution_count": 22,
   "id": "aa2f6c20",
   "metadata": {},
   "outputs": [],
   "source": [
    "def strings_to_numbers(matrix):\n",
    "    new_matrix = [\n",
    "        [int(n) for n in row]\n",
    "        for row in matrix\n",
    "    ]\n",
    "    return new_matrix"
   ]
  },
  {
   "cell_type": "code",
   "execution_count": 23,
   "id": "968fbce6",
   "metadata": {},
   "outputs": [
    {
     "data": {
      "text/plain": [
       "[[1, 2, 3], [4, 5, 6]]"
      ]
     },
     "execution_count": 23,
     "metadata": {},
     "output_type": "execute_result"
    }
   ],
   "source": [
    "strings_to_numbers([['1', '2', '3'], ['4', '5', '6']])"
   ]
  },
  {
   "cell_type": "markdown",
   "id": "448457b9",
   "metadata": {},
   "source": [
    "### Refactor 3 "
   ]
  },
  {
   "cell_type": "code",
   "execution_count": 7,
   "id": "ed5736c7",
   "metadata": {},
   "outputs": [],
   "source": [
    "def strings_to_numbers(matrix):\n",
    "    return [\n",
    "        [int(n) for n in row]\n",
    "        for row in matrix\n",
    "    ]"
   ]
  },
  {
   "cell_type": "code",
   "execution_count": 8,
   "id": "a9a95c18",
   "metadata": {},
   "outputs": [
    {
     "data": {
      "text/plain": [
       "[[1, 2, 3], [4, 5, 6]]"
      ]
     },
     "execution_count": 8,
     "metadata": {},
     "output_type": "execute_result"
    }
   ],
   "source": [
    "strings_to_numbers([['1', '2', '3'], ['4', '5', '6']])"
   ]
  },
  {
   "cell_type": "code",
   "execution_count": 9,
   "id": "6f816e59",
   "metadata": {},
   "outputs": [],
   "source": [
    "def base_strings_to_numbers(matrix):\n",
    "    \"\"\"\n",
    "    Function accepts a list-of-lists-of-strings and returns a list-of-lists-of-numbers.\n",
    "    \n",
    "    \"\"\"\n",
    "    new_matrix = []\n",
    "    for row in matrix:\n",
    "        new_row = []\n",
    "        for n in row:\n",
    "            new_row.append(int(n))\n",
    "        new_matrix.append(new_row)\n",
    "    return new_matrix\n",
    "\n",
    "\n",
    "\n",
    "def strings_to_numbers(matrix):\n",
    "    return [\n",
    "        [int(n) for n in row]\n",
    "        for row in matrix\n",
    "    ]"
   ]
  },
  {
   "cell_type": "markdown",
   "id": "b13f56be",
   "metadata": {},
   "source": [
    "### Readability counts"
   ]
  },
  {
   "cell_type": "code",
   "execution_count": 10,
   "id": "a8e5a9b8",
   "metadata": {},
   "outputs": [
    {
     "name": "stdout",
     "output_type": "stream",
     "text": [
      "The Zen of Python, by Tim Peters\n",
      "\n",
      "Beautiful is better than ugly.\n",
      "Explicit is better than implicit.\n",
      "Simple is better than complex.\n",
      "Complex is better than complicated.\n",
      "Flat is better than nested.\n",
      "Sparse is better than dense.\n",
      "Readability counts.\n",
      "Special cases aren't special enough to break the rules.\n",
      "Although practicality beats purity.\n",
      "Errors should never pass silently.\n",
      "Unless explicitly silenced.\n",
      "In the face of ambiguity, refuse the temptation to guess.\n",
      "There should be one-- and preferably only one --obvious way to do it.\n",
      "Although that way may not be obvious at first unless you're Dutch.\n",
      "Now is better than never.\n",
      "Although never is often better than *right* now.\n",
      "If the implementation is hard to explain, it's a bad idea.\n",
      "If the implementation is easy to explain, it may be a good idea.\n",
      "Namespaces are one honking great idea -- let's do more of those!\n"
     ]
    }
   ],
   "source": [
    "import this "
   ]
  },
  {
   "cell_type": "markdown",
   "id": "a309b661",
   "metadata": {},
   "source": [
    "### How are list comprehensions faster ? "
   ]
  },
  {
   "cell_type": "code",
   "execution_count": 11,
   "id": "cd34e39a",
   "metadata": {},
   "outputs": [],
   "source": [
    "# For a code object or sequence of raw bytecode, it prints one line per bytecode instruction.\n",
    "from dis import dis"
   ]
  },
  {
   "cell_type": "code",
   "execution_count": 12,
   "id": "da5b14aa",
   "metadata": {},
   "outputs": [
    {
     "name": "stdout",
     "output_type": "stream",
     "text": [
      "  2           0 BUILD_LIST               0\n",
      "              2 STORE_FAST               0 (num)\n",
      "\n",
      "  3           4 LOAD_GLOBAL              0 (range)\n",
      "              6 LOAD_CONST               1 (100)\n",
      "              8 CALL_FUNCTION            1\n",
      "             10 GET_ITER\n",
      "        >>   12 FOR_ITER                14 (to 28)\n",
      "             14 STORE_FAST               1 (i)\n",
      "\n",
      "  4          16 LOAD_FAST                0 (num)\n",
      "             18 LOAD_METHOD              1 (append)\n",
      "             20 LOAD_FAST                0 (num)\n",
      "             22 CALL_METHOD              1\n",
      "             24 POP_TOP\n",
      "             26 JUMP_ABSOLUTE           12\n",
      "\n",
      "  5     >>   28 LOAD_FAST                0 (num)\n",
      "             30 RETURN_VALUE\n"
     ]
    }
   ],
   "source": [
    "def foo_bar_normal():\n",
    "    num = []\n",
    "    for i in range(100):\n",
    "        num.append(num)\n",
    "    return num\n",
    "\n",
    "\n",
    "dis(foo_bar_normal)"
   ]
  },
  {
   "cell_type": "code",
   "execution_count": 13,
   "id": "5e3cc988",
   "metadata": {},
   "outputs": [
    {
     "name": "stdout",
     "output_type": "stream",
     "text": [
      "  2           0 LOAD_CONST               1 (<code object <listcomp> at 0x108054660, file \"/var/folders/lq/wt4xht75659d91x3dfn6dtth0000gn/T/ipykernel_76689/2770814045.py\", line 2>)\n",
      "              2 LOAD_CONST               2 ('foo_bar.<locals>.<listcomp>')\n",
      "              4 MAKE_FUNCTION            0\n",
      "              6 LOAD_GLOBAL              0 (range)\n",
      "              8 LOAD_CONST               3 (100)\n",
      "             10 CALL_FUNCTION            1\n",
      "             12 GET_ITER\n",
      "             14 CALL_FUNCTION            1\n",
      "             16 RETURN_VALUE\n",
      "\n",
      "Disassembly of <code object <listcomp> at 0x108054660, file \"/var/folders/lq/wt4xht75659d91x3dfn6dtth0000gn/T/ipykernel_76689/2770814045.py\", line 2>:\n",
      "  2           0 BUILD_LIST               0\n",
      "              2 LOAD_FAST                0 (.0)\n",
      "        >>    4 FOR_ITER                 8 (to 14)\n",
      "              6 STORE_FAST               1 (i)\n",
      "              8 LOAD_FAST                1 (i)\n",
      "             10 LIST_APPEND              2\n",
      "             12 JUMP_ABSOLUTE            4\n",
      "        >>   14 RETURN_VALUE\n"
     ]
    }
   ],
   "source": [
    "def foo_bar():\n",
    "    return [i for i in range(100)]\n",
    "\n",
    "\n",
    "dis(foo_bar)"
   ]
  },
  {
   "cell_type": "markdown",
   "id": "3c2ba6ed",
   "metadata": {},
   "source": [
    "* `foo_bar_normal()` load the append attribute off of the list, `18 LOAD_METHOD  1 (append)`\n",
    "\n",
    "* `foo_bar()` a specialized `LIST_APPEND` bytecode is generated for a fast append onto the result list, `10 LIST_APPEND`  "
   ]
  },
  {
   "cell_type": "markdown",
   "id": "d4e60d43",
   "metadata": {},
   "source": [
    "### Timing it with timeit\n",
    "* The `%timeit` magic runs the given code many times, then returns the speed of the fastest result."
   ]
  },
  {
   "cell_type": "code",
   "execution_count": 14,
   "id": "0ef8ac95",
   "metadata": {},
   "outputs": [
    {
     "name": "stdout",
     "output_type": "stream",
     "text": [
      "2.97 µs ± 19.7 ns per loop (mean ± std. dev. of 7 runs, 100,000 loops each)\n"
     ]
    }
   ],
   "source": [
    "%timeit foo_bar_normal()"
   ]
  },
  {
   "cell_type": "code",
   "execution_count": 15,
   "id": "61530d3b",
   "metadata": {},
   "outputs": [
    {
     "name": "stdout",
     "output_type": "stream",
     "text": [
      "1.51 µs ± 16.4 ns per loop (mean ± std. dev. of 7 runs, 1,000,000 loops each)\n"
     ]
    }
   ],
   "source": [
    "%timeit foo_bar()"
   ]
  },
  {
   "cell_type": "markdown",
   "id": "4be6e70d",
   "metadata": {},
   "source": [
    "### When not to use list comprehensions ?\n",
    "\n",
    "* Data filtering is not very well defenied \n",
    "* An inbuilt library makes more sense\n",
    "* A repeated value is used in the list."
   ]
  },
  {
   "cell_type": "code",
   "execution_count": 16,
   "id": "347e71ab",
   "metadata": {},
   "outputs": [
    {
     "data": {
      "text/plain": [
       "[('A', 1), ('A', 2), ('B', 1), ('B', 2)]"
      ]
     },
     "execution_count": 16,
     "metadata": {},
     "output_type": "execute_result"
    }
   ],
   "source": [
    "from itertools import product, repeat \n",
    "# Better readable\n",
    "list(product(\"AB\", range(1, 3)))"
   ]
  },
  {
   "cell_type": "code",
   "execution_count": 17,
   "id": "280f8cde",
   "metadata": {},
   "outputs": [
    {
     "data": {
      "text/plain": [
       "[('A', 1), ('A', 2), ('B', 1), ('B', 2)]"
      ]
     },
     "execution_count": 17,
     "metadata": {},
     "output_type": "execute_result"
    }
   ],
   "source": [
    "# Less readable\n",
    "[(char, n) for char in \"AB\" for n in range(1,3)]"
   ]
  },
  {
   "cell_type": "code",
   "execution_count": 18,
   "id": "5ebcc4b9",
   "metadata": {},
   "outputs": [
    {
     "name": "stdout",
     "output_type": "stream",
     "text": [
      "[False, False, False, False, False, False, False, False, False, False]\n",
      "**********\n",
      "[0, 1, 2, 3, 4, 5, 6, 7, 8, 9]\n"
     ]
    }
   ],
   "source": [
    "# Repeating values\n",
    "falses = [False for _ in range(10)]\n",
    "# No data filtering\n",
    "numbers = [_ for _ in range(10)]\n",
    "\n",
    "print(falses)\n",
    "print(\"*\" * 10)\n",
    "print(numbers)"
   ]
  },
  {
   "cell_type": "code",
   "execution_count": 19,
   "id": "d70601e6",
   "metadata": {},
   "outputs": [
    {
     "data": {
      "text/plain": [
       "[False, False, False, False, False, False, False, False, False, False]"
      ]
     },
     "execution_count": 19,
     "metadata": {},
     "output_type": "execute_result"
    }
   ],
   "source": [
    "# Repeating values so better to use list()\n",
    "list(repeat(False, 10))"
   ]
  },
  {
   "cell_type": "code",
   "execution_count": 20,
   "id": "c758fd30",
   "metadata": {},
   "outputs": [
    {
     "data": {
      "text/plain": [
       "[0, 1, 2, 3, 4, 5, 6, 7, 8, 9]"
      ]
     },
     "execution_count": 20,
     "metadata": {},
     "output_type": "execute_result"
    }
   ],
   "source": [
    "# No data filtering so better to use list() \n",
    "list(range(10))"
   ]
  },
  {
   "cell_type": "markdown",
   "id": "9a63f625",
   "metadata": {},
   "source": [
    "### Tips on writing list comprehensions\n",
    "\n",
    "* If list comprehension has conditional filtering(if) use only single loop and if\n",
    "\n",
    "```Python\n",
    ">>> letters = \"ADKJasdfSDFWE\"\n",
    ">>> [\n",
    "     letter \n",
    "     for letter in letters \n",
    "     if letter.isupper()\n",
    "    ]\n",
    "```\n",
    "\n",
    "* If list comprehension has no conditional filtering(if) use only two loops\n",
    "\n",
    "\n",
    "```Python\n",
    ">>> name_groups = [[\"bob\", \"alice\"], [\"jhon\", \"doe\"], [\"foo\", \"bar\"]]\n",
    ">>> [\n",
    "    name.capitalize()\n",
    "    for group in name_groups \n",
    "    for name in group\n",
    "    ]\n",
    "```\n",
    "\n",
    "* List comprehensions more than three lines should be converted to for loops to increase rediablilty.\n"
   ]
  },
  {
   "cell_type": "markdown",
   "id": "cce7bc32",
   "metadata": {},
   "source": [
    "### List comprehensions are specialised tool provided by Python to build up new lists and primarly focuses on rediability where as for loops are general purpose tool. So use them wisely. "
   ]
  },
  {
   "cell_type": "code",
   "execution_count": null,
   "id": "69923d6e",
   "metadata": {},
   "outputs": [],
   "source": []
  }
 ],
 "metadata": {
  "kernelspec": {
   "display_name": "Python 3 (ipykernel)",
   "language": "python",
   "name": "python3"
  },
  "language_info": {
   "codemirror_mode": {
    "name": "ipython",
    "version": 3
   },
   "file_extension": ".py",
   "mimetype": "text/x-python",
   "name": "python",
   "nbconvert_exporter": "python",
   "pygments_lexer": "ipython3",
   "version": "3.9.11"
  }
 },
 "nbformat": 4,
 "nbformat_minor": 5
}
